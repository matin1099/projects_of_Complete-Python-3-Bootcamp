{
 "cells": [
  {
   "cell_type": "markdown",
   "id": "8998db0f-a2d5-486e-a0cf-1f2447fb3f66",
   "metadata": {},
   "source": [
    "#### * You need to create a simple text-based [BlackJack](https://en.wikipedia.org/wiki/Blackjack) game\n",
    "* The game needs to have one player versus an automated dealer.\n",
    "* The player can stand or hit.\n",
    "* The player must be able to pick their betting amount.\n",
    "* You need to keep track of the player's total money.\n",
    "* You need to alert the player of wins, losses, or busts, etc...\n",
    "\n",
    "And most importantly:\n",
    "\n",
    "* **You must use OOP and classes in some portion of your game. You can not just use functions in your game. Use classes to help you define the Deck and the Player's hand. There are many right ways to do this, so explore it well!**\n"
   ]
  },
  {
   "cell_type": "code",
   "execution_count": 1,
   "id": "b5739d42-d7ab-4550-b41a-d2d36297daad",
   "metadata": {},
   "outputs": [],
   "source": [
    "from random import shuffle \n",
    "#for shffleing deck"
   ]
  },
  {
   "cell_type": "code",
   "execution_count": 2,
   "id": "528cb9d6-78ad-4822-9c65-28aee592a547",
   "metadata": {},
   "outputs": [],
   "source": [
    "suits = ('Hearts', 'Diamonds', 'Spades', 'Clubs')\n",
    "ranks = ('Two', 'Three', 'Four', 'Five', 'Six', 'Seven', 'Eight', 'Nine', 'Ten', 'Jack', 'Queen', 'King', 'Ace')\n",
    "values = {'Two':2, 'Three':3, 'Four':4, 'Five':5, 'Six':6, 'Seven':7, 'Eight':8, \n",
    "            'Nine':9, 'Ten':10, 'Jack':10, 'Queen':10, 'King':10, 'Ace':11}"
   ]
  },
  {
   "cell_type": "code",
   "execution_count": 3,
   "id": "d6c042e9-ae97-4c38-aafd-57c31805fac7",
   "metadata": {},
   "outputs": [],
   "source": [
    "class Card():\n",
    "    \"\"\"\n",
    "    A class for playing cards, value, and suits\n",
    "\n",
    "    return a list containt 52  tuple with 3 index(suit, number, value):(\"hearts\", \"two\", 2)\n",
    "    \"\"\"\n",
    "    def __init__(self, suit, rank):\n",
    "        self.suit = suit\n",
    "        self.rank = rank\n",
    "        self.value = values[rank]\n",
    "\n",
    "    def __str__(self):\n",
    "        return self.rank + \" of \" + self.suit"
   ]
  },
  {
   "cell_type": "code",
   "execution_count": 4,
   "id": "5cfec673-c1eb-4156-8409-3db9b192949a",
   "metadata": {},
   "outputs": [],
   "source": [
    "class Deck():\n",
    "    \"\"\"\n",
    "    Create Deck of cards for playing\n",
    "    will create full deck at  first use\n",
    "    will suffle deck\n",
    "    willremove dealed cards\n",
    "    \"\"\"\n",
    "    def __init__(self):\n",
    "        self.all_card = []\n",
    "        for i in suits:\n",
    "            for j in ranks:\n",
    "                self.all_card.append(Card(i,j))\n",
    "\n",
    "    def Shuffle(self):\n",
    "        shuffle(self.all_card)\n",
    "\n",
    "    def dealed(self):\n",
    "        return(self.all_card.pop(-1))\n"
   ]
  },
  {
   "cell_type": "code",
   "execution_count": 5,
   "id": "8a64d7a6-ae13-451f-9cb9-a1f74a1accaa",
   "metadata": {},
   "outputs": [],
   "source": [
    "class Player():\n",
    "    \"\"\"\n",
    "    player class\n",
    "    can bet\n",
    "    have money\n",
    "    can get card (hit) or decline (sit)\n",
    "    \"\"\"\n",
    "    def __init__(self,name:str, money:int):\n",
    "        self.name = name\n",
    "        self.hold = []\n",
    "        self.score = 0\n",
    "        self.money = 0\n",
    "\n",
    "    def __str__(self):\n",
    "        if not self.score > 23:\n",
    "            return f\"{self.name} had scored {self.score}.\\n\"\n",
    "        else:\n",
    "            return f\"{self.name} had scored {self.score} AND BUSTED!!!\\n\\n\\n\\n\\nGAME OVER!\\n\"\n",
    "    \n",
    "    def bet(self,):\n",
    "        \n",
    "        \n",
    "        while self.money > 0 :\n",
    "            try:\n",
    "                self.bet_money = int(input(\"Place your bet: \"))\n",
    "                if self.bet <= self.money:\n",
    "                    self.money -= self.bet\n",
    "                break\n",
    "            except:\n",
    "                print(\"You bet more than YOU HAVE. LOWER your bet\")\n",
    "                continue\n",
    "        return self.bet_money\n",
    "\n",
    "\n",
    "    "
   ]
  },
  {
   "cell_type": "code",
   "execution_count": 6,
   "id": "b9efac83-0fd7-47ea-9ee0-bef71b89aa78",
   "metadata": {},
   "outputs": [],
   "source": [
    "class Player_dealer():\n",
    "    \"\"\"\n",
    "    player_dealer class\n",
    "    can bet\n",
    "    have money\n",
    "    can get card (hit) or decline (sit)\n",
    "    \"\"\"\n",
    "    def __init__(self,name:str, money:int):\n",
    "        self.name = name\n",
    "        self.hold = []\n",
    "        self.score = 0\n",
    "        self.money = 0\n",
    "\n",
    "    def __str__(self):\n",
    "        if not self.score > 23:\n",
    "            return f\"{self.name} had scored {self.score}.\\n\"\n",
    "        else:\n",
    "            return f\"{self.name} had scored {self.score} AND BUSTED!!!\\n\\n\\n\\n\\nGAME OVER!\\n\"\n",
    "\n",
    "    \n",
    "    def bet(self,):\n",
    "        \n",
    "        while self.money > 0 :\n",
    "            try:\n",
    "                self.bet_money = int(input(\"Place your bet: \"))\n",
    "                if self.bet <= self.money:\n",
    "                    self.money -= self.bet\n",
    "                break\n",
    "            except:\n",
    "                print(\"You bet more than YOU HAVE. LOWER your bet\")\n",
    "                continue\n",
    "        return self.bet_money\n"
   ]
  },
  {
   "cell_type": "code",
   "execution_count": 17,
   "id": "de48d612-09e3-488d-8004-e5917774f9b6",
   "metadata": {},
   "outputs": [],
   "source": [
    "class Card_dealer():\n",
    "    \"\"\"\n",
    "    Dealer class\n",
    "    \"\"\"\n",
    "    def __init__(self,):\n",
    "        self.deck = Deck()\n",
    "        self.deck.Shuffle()\n",
    "        print(\"The dealer prepared a deck of cards for the game.\")\n",
    "\n",
    "    def hitOrStay(self, cmd):\n",
    "        cmd = input(\"Hit Or Stay\")\n",
    "        if cmd in [\"yes\", \"Yes\", \"y\", \"Y\",\"\"]:\n",
    "            player.hold.append(self.deck.all_card[-1])\n",
    "            player.score += self.deck.all_card[-1].value\n",
    "            \n",
    "            print(\"Dealer pass {0} to you.\".format(self.deck.dealed()))\n",
    "        elif cmd in [\"no\", \"No\", \"N\", \"n\",]:\n",
    "            print(\"You Stay!\")"
   ]
  },
  {
   "cell_type": "code",
   "execution_count": 18,
   "id": "ab199ea7-b8e3-41c5-920e-c0763297d52c",
   "metadata": {},
   "outputs": [
    {
     "ename": "SyntaxError",
     "evalue": "expected ':' (2330354986.py, line 6)",
     "output_type": "error",
     "traceback": [
      "\u001b[0;36m  Cell \u001b[0;32mIn[18], line 6\u001b[0;36m\u001b[0m\n\u001b[0;31m    elif player\u001b[0m\n\u001b[0m               ^\u001b[0m\n\u001b[0;31mSyntaxError\u001b[0m\u001b[0;31m:\u001b[0m expected ':'\n"
     ]
    }
   ],
   "source": [
    "class Judge():\n",
    "    \"\"\" a class for judgeing win loss bust etc\"\"\"\n",
    "    def __init__(self,player_score):\n",
    "        if player_score >21 :\n",
    "            print(\"{0} have BUSTED!\".format(Player.name))\n",
    "        elif player_score < 21 :\n",
    "            print(\"{0} can go on!\".format(Player.name))\n",
    "        elif player_score == 20 :\n",
    "            print(\"{0} reach 21!\".format(Player.name))\n",
    "            player\n",
    "\n"
   ]
  },
  {
   "cell_type": "code",
   "execution_count": 10,
   "id": "3686e8e1-20df-44fc-a0a8-67d4a02f3f2a",
   "metadata": {},
   "outputs": [],
   "source": [
    "p1 = Player(\"ali\",500)\n",
    "p2 = Player(\"akbar\",1000)"
   ]
  },
  {
   "cell_type": "code",
   "execution_count": 12,
   "id": "591ccd1e-c591-4236-8b34-8532d5660b83",
   "metadata": {},
   "outputs": [
    {
     "name": "stdout",
     "output_type": "stream",
     "text": [
      "The dealer prepared a deck of cards for the game.\n"
     ]
    },
    {
     "data": {
      "text/plain": [
       "<__main__.Card_ealer at 0x7f7db4572c30>"
      ]
     },
     "execution_count": 12,
     "metadata": {},
     "output_type": "execute_result"
    }
   ],
   "source": [
    "Card_ealer()"
   ]
  },
  {
   "cell_type": "code",
   "execution_count": 16,
   "id": "ce8784e1-b298-40c1-b17b-f9b305d78102",
   "metadata": {},
   "outputs": [
    {
     "ename": "TypeError",
     "evalue": "Card_ealer.hitOrStay() missing 1 required positional argument: 'self'",
     "output_type": "error",
     "traceback": [
      "\u001b[0;31m---------------------------------------------------------------------------\u001b[0m",
      "\u001b[0;31mTypeError\u001b[0m                                 Traceback (most recent call last)",
      "Cell \u001b[0;32mIn[16], line 1\u001b[0m\n\u001b[0;32m----> 1\u001b[0m x\u001b[38;5;241m=\u001b[39m\u001b[43mCard_ealer\u001b[49m\u001b[38;5;241;43m.\u001b[39;49m\u001b[43mhitOrStay\u001b[49m\u001b[43m(\u001b[49m\u001b[43mcmd\u001b[49m\u001b[38;5;241;43m=\u001b[39;49m\u001b[38;5;124;43m\"\u001b[39;49m\u001b[38;5;124;43my\u001b[39;49m\u001b[38;5;124;43m\"\u001b[39;49m\u001b[43m)\u001b[49m\n",
      "\u001b[0;31mTypeError\u001b[0m: Card_ealer.hitOrStay() missing 1 required positional argument: 'self'"
     ]
    }
   ],
   "source": [
    "x=Card_ealer.hitOrStay(cmd=\"y\")"
   ]
  }
 ],
 "metadata": {
  "kernelspec": {
   "display_name": "Python 3 (ipykernel)",
   "language": "python",
   "name": "python3"
  },
  "language_info": {
   "codemirror_mode": {
    "name": "ipython",
    "version": 3
   },
   "file_extension": ".py",
   "mimetype": "text/x-python",
   "name": "python",
   "nbconvert_exporter": "python",
   "pygments_lexer": "ipython3",
   "version": "3.12.3"
  }
 },
 "nbformat": 4,
 "nbformat_minor": 5
}
