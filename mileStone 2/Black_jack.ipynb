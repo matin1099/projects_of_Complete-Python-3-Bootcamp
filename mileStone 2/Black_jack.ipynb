{
 "cells": [
  {
   "cell_type": "markdown",
   "id": "8998db0f-a2d5-486e-a0cf-1f2447fb3f66",
   "metadata": {},
   "source": [
    "* You need to create a simple text-based [BlackJack](https://en.wikipedia.org/wiki/Blackjack) game\n",
    "* The game needs to have one player versus an automated dealer.\n",
    "* The player can stand or hit.\n",
    "* The player must be able to pick their betting amount.\n",
    "* You need to keep track of the player's total money.\n",
    "* You need to alert the player of wins, losses, or busts, etc...\n",
    "\n",
    "And most importantly:\n",
    "\n",
    "* **You must use OOP and classes in some portion of your game. You can not just use functions in your game. Use classes to help you define the Deck and the Player's hand. There are many right ways to do this, so explore it well!**\n"
   ]
  },
  {
   "cell_type": "code",
   "execution_count": 1,
   "id": "b5739d42-d7ab-4550-b41a-d2d36297daad",
   "metadata": {},
   "outputs": [],
   "source": [
    "from random import shuffle \n",
    "#for shffleing deck"
   ]
  },
  {
   "cell_type": "code",
   "execution_count": 2,
   "id": "528cb9d6-78ad-4822-9c65-28aee592a547",
   "metadata": {},
   "outputs": [],
   "source": [
    "suits = ('Hearts', 'Diamonds', 'Spades', 'Clubs')\n",
    "ranks = ('Two', 'Three', 'Four', 'Five', 'Six', 'Seven', 'Eight', 'Nine', 'Ten', 'Jack', 'Queen', 'King', 'Ace')\n",
    "values = {'Two':2, 'Three':3, 'Four':4, 'Five':5, 'Six':6, 'Seven':7, 'Eight':8, \n",
    "            'Nine':9, 'Ten':10, 'Jack':11, 'Queen':12, 'King':13, 'Ace':14}"
   ]
  },
  {
   "cell_type": "code",
   "execution_count": 3,
   "id": "d6c042e9-ae97-4c38-aafd-57c31805fac7",
   "metadata": {},
   "outputs": [],
   "source": [
    "class Card():\n",
    "    \"\"\"\n",
    "    A class for playing cards, value, and suits\n",
    "\n",
    "    return a list containt 52  tuple with 3 index(suit, number, value):(\"hearts\", \"two\", 2)\n",
    "    \"\"\"\n",
    "    def __init__(self, suit, rank):\n",
    "        self.suit = suit\n",
    "        self.rank = rank\n",
    "        self.value = values[rank]\n",
    "\n",
    "    def __str__(self):\n",
    "        return self.rank + \" of \" + self.suit"
   ]
  },
  {
   "cell_type": "code",
   "execution_count": 4,
   "id": "0ae8bc16-91d5-4023-9b68-b54e2546d195",
   "metadata": {},
   "outputs": [],
   "source": [
    "sample = Card(suits[2], ranks[10])"
   ]
  },
  {
   "cell_type": "code",
   "execution_count": 5,
   "id": "bdf4cd60-c1e3-4206-b408-27e73b5f6960",
   "metadata": {},
   "outputs": [
    {
     "name": "stdout",
     "output_type": "stream",
     "text": [
      "Queen of Spades\n"
     ]
    }
   ],
   "source": [
    "print(sample)"
   ]
  },
  {
   "cell_type": "code",
   "execution_count": 6,
   "id": "5cfec673-c1eb-4156-8409-3db9b192949a",
   "metadata": {},
   "outputs": [],
   "source": [
    "class Deck():\n",
    "    \"\"\"\n",
    "    Create Deck of cards for playing\n",
    "    will create full deck at  first use\n",
    "    will suffle deck\n",
    "    willremove dealed cards\n",
    "    \"\"\"\n",
    "    def __init__(self):\n",
    "        self.all_card = []\n",
    "        for i in suits:\n",
    "            for j in ranks:\n",
    "                self.all_card.append(Card(i,j))\n",
    "\n",
    "    def Shuffle(self):\n",
    "        shuffle(self.all_card)\n",
    "\n",
    "    def dealed(self):\n",
    "        return(self.all_card.pop())"
   ]
  },
  {
   "cell_type": "code",
   "execution_count": 7,
   "id": "1fc2218b-b77b-4f83-8765-7e52e0686868",
   "metadata": {},
   "outputs": [],
   "source": [
    "md = Deck()"
   ]
  },
  {
   "cell_type": "code",
   "execution_count": 8,
   "id": "6a1c9478-5e51-4f7d-b97d-a68c3b122874",
   "metadata": {},
   "outputs": [
    {
     "name": "stdout",
     "output_type": "stream",
     "text": [
      "Two of Hearts\n",
      "Ace of Clubs\n"
     ]
    }
   ],
   "source": [
    "print(md.all_card[0])\n",
    "print(md.all_card[-1])"
   ]
  },
  {
   "cell_type": "code",
   "execution_count": 9,
   "id": "f4c77d64-8530-4f2d-b66a-40715deb6dd5",
   "metadata": {},
   "outputs": [],
   "source": [
    "md.Shuffle()"
   ]
  },
  {
   "cell_type": "code",
   "execution_count": 10,
   "id": "ec00c004-be7d-4670-b3ef-f3f96111965d",
   "metadata": {},
   "outputs": [
    {
     "name": "stdout",
     "output_type": "stream",
     "text": [
      "Queen of Diamonds\n",
      "Nine of Diamonds\n"
     ]
    }
   ],
   "source": [
    "print(md.all_card[0])\n",
    "print(md.all_card[-1])"
   ]
  },
  {
   "cell_type": "code",
   "execution_count": 11,
   "id": "b346787e-842f-4cf5-bf48-253eca424c94",
   "metadata": {},
   "outputs": [
    {
     "data": {
      "text/plain": [
       "<__main__.Card at 0x7f2c1ad75d30>"
      ]
     },
     "execution_count": 11,
     "metadata": {},
     "output_type": "execute_result"
    }
   ],
   "source": [
    "md.dealed()"
   ]
  },
  {
   "cell_type": "code",
   "execution_count": 12,
   "id": "6d07fbb2-af38-45ea-92ff-e9ea0aaaef4e",
   "metadata": {},
   "outputs": [
    {
     "name": "stdout",
     "output_type": "stream",
     "text": [
      "Queen of Diamonds\n",
      "Queen of Hearts\n"
     ]
    }
   ],
   "source": [
    "print(md.all_card[0])\n",
    "print(md.all_card[-1])"
   ]
  },
  {
   "cell_type": "code",
   "execution_count": 14,
   "id": "7c2f80cf-aa45-4b37-ab63-90390ef78ce5",
   "metadata": {},
   "outputs": [
    {
     "data": {
      "text/plain": [
       "12"
      ]
     },
     "execution_count": 14,
     "metadata": {},
     "output_type": "execute_result"
    }
   ],
   "source": [
    "md.all_card[0].value"
   ]
  },
  {
   "cell_type": "code",
   "execution_count": 64,
   "id": "8a64d7a6-ae13-451f-9cb9-a1f74a1accaa",
   "metadata": {},
   "outputs": [],
   "source": [
    "class Player():\n",
    "    \"\"\"\n",
    "    player class\n",
    "    can bet\n",
    "    have money\n",
    "    can get card (hit) or decline (sit)\n",
    "    \"\"\"\n",
    "    def __init__(self,name:str, money:int):\n",
    "        self.name = name\n",
    "        self.hold = []\n",
    "        self.score = 0\n",
    "        self.money = 0\n",
    "\n",
    "    def __str__(self):\n",
    "        if not self.score > 23:\n",
    "            return f\"{self.name} had scored {self.score}.\\n\"\n",
    "        else:\n",
    "            return f\"{self.name} had scored {self.score} AND BUSTED!!!\\n\\n\\n\\n\\nGAME OVER!\\n\"\n",
    "    \n",
    "    def bet(self,):\n",
    "        \n",
    "        bet = True\n",
    "        while bet:\n",
    "            try:\n",
    "                self.bet_money = int(input(\"Place your bet: \"))\n",
    "                if self.bet <= self.money:\n",
    "                    self.money -= self.bet\n",
    "                break\n",
    "            except:\n",
    "                print(\"You bet more than YOU HAVE. LOWER your bet\")\n",
    "                continue\n",
    "        return self.bet_money\n",
    "\n",
    "    def hit(self,new_card):\n",
    "        self.hold.append(new_card)\n",
    "        self.score += new_card.value\n",
    "        \n",
    "    "
   ]
  },
  {
   "cell_type": "code",
   "execution_count": 53,
   "id": "9466a73d-aa35-4e82-87ad-7e53d8cd7622",
   "metadata": {},
   "outputs": [],
   "source": [
    "p1 = Player(\"matin\")"
   ]
  },
  {
   "cell_type": "code",
   "execution_count": 54,
   "id": "1766b13b-7cdb-4b60-93f3-9d1a04e59181",
   "metadata": {},
   "outputs": [
    {
     "data": {
      "text/plain": [
       "__main__.Player"
      ]
     },
     "execution_count": 54,
     "metadata": {},
     "output_type": "execute_result"
    }
   ],
   "source": [
    "type(p1)"
   ]
  },
  {
   "cell_type": "code",
   "execution_count": 55,
   "id": "5e08b8fd-c426-41d7-b94b-fceec49c5400",
   "metadata": {},
   "outputs": [],
   "source": [
    "p1.hit(md.all_card[0])"
   ]
  },
  {
   "cell_type": "code",
   "execution_count": 56,
   "id": "ba8bd320-179c-45c6-9d03-647d63e5ab03",
   "metadata": {},
   "outputs": [
    {
     "name": "stdout",
     "output_type": "stream",
     "text": [
      "Queen of Diamonds\n"
     ]
    }
   ],
   "source": [
    "print(p1.hold[0])"
   ]
  },
  {
   "cell_type": "code",
   "execution_count": 57,
   "id": "8ff61e1e-7ce8-4c47-a5b8-735b093a94b4",
   "metadata": {},
   "outputs": [
    {
     "name": "stdout",
     "output_type": "stream",
     "text": [
      "12\n"
     ]
    }
   ],
   "source": [
    "print(p1.score)"
   ]
  },
  {
   "cell_type": "code",
   "execution_count": 62,
   "id": "de48d612-09e3-488d-8004-e5917774f9b6",
   "metadata": {},
   "outputs": [],
   "source": [
    "class Dealer():\n",
    "    pass"
   ]
  },
  {
   "cell_type": "code",
   "execution_count": null,
   "id": "edb71fb3-aa10-46ed-948c-e31d928870aa",
   "metadata": {},
   "outputs": [],
   "source": []
  }
 ],
 "metadata": {
  "kernelspec": {
   "display_name": "Python 3 (ipykernel)",
   "language": "python",
   "name": "python3"
  },
  "language_info": {
   "codemirror_mode": {
    "name": "ipython",
    "version": 3
   },
   "file_extension": ".py",
   "mimetype": "text/x-python",
   "name": "python",
   "nbconvert_exporter": "python",
   "pygments_lexer": "ipython3",
   "version": "3.12.3"
  }
 },
 "nbformat": 4,
 "nbformat_minor": 5
}
