{
 "cells": [
  {
   "cell_type": "markdown",
   "metadata": {},
   "source": [
    "___\n",
    "\n",
    "<a href='https://www.udemy.com/user/joseportilla/'><img src='../Pierian_Data_Logo.png'/></a>\n",
    "___\n",
    "<center><em>Content Copyright by Pierian Data</em></center>"
   ]
  },
  {
   "cell_type": "markdown",
   "metadata": {},
   "source": [
    "# Milestone Project 1\n",
    "## Congratulations on making it to your first milestone!\n",
    "You've already learned a ton and are ready to work on a real project.\n",
    "\n",
    "Your assignment: Create a Tic Tac Toe game. You are free to use any IDE you like.\n",
    "\n",
    "Here are the requirements:\n",
    "\n",
    "* 2 players should be able to play the game (both sitting at the same computer)\n",
    "* The board should be printed out every time a player makes a move\n",
    "* You should be able to accept input of the player position and then place a symbol on the board\n",
    "\n",
    "Feel free to use Google to help you figure anything out (but don't just Google \"Tic Tac Toe in Python\" otherwise you won't learn anything!) Keep in mind that this project can take anywhere between several hours to several days.\n",
    "\n",
    "There are 4 Jupyter Notebooks related to this assignment:\n",
    "\n",
    "* This Assignment Notebook\n",
    "* A \"Walkthrough Steps Workbook\" Notebook\n",
    "* A \"Complete Walkthrough Solution\" Notebook\n",
    "* An \"Advanced Solution\" Notebook\n",
    "\n",
    "I encourage you to just try to start the project on your own without referencing any of the notebooks. If you get stuck, check out the next lecture which is a text lecture with helpful hints and steps. If you're still stuck after that, then check out the Walkthrough Steps Workbook, which breaks up the project in steps for you to solve. Still stuck? Then check out the Complete Walkthrough Solution video for more help on approaching the project!"
   ]
  },
  {
   "cell_type": "markdown",
   "metadata": {},
   "source": [
    "There are parts of this that will be a struggle...and that is good! I have complete faith that if you have made it this far through the course you have all the tools and knowledge to tackle this project. Remember, it's totally open book, so take your time, do a little research, and remember:\n",
    "\n",
    "## HAVE FUN!"
   ]
  },
  {
   "cell_type": "code",
   "execution_count": 124,
   "metadata": {},
   "outputs": [],
   "source": [
    "def start():\n",
    "    print(\"\"\"سلام به بازی دوز خوش اومدی. \n",
    "اینجا ما بازی دوز داریم که با دو تا بازیکن هست و شما باید از شماره ۱ الی ۹ رو به صورت لاتین وارد کنید تا مهرا  در اون مکان گذاشته شود.\n",
    "صفحه دوز به این شکل است\"\"\")\n",
    "    print('''\n",
    "    1 | 2 | 3 \n",
    "    __________\n",
    "    4 | 5 | 6\n",
    "    __________\n",
    "    7 | 8 | 9\n",
    "\n",
    "    ''')\n",
    "    players = [(input(\"اسم بازیکن X :   \"),\"X\"),(input(\"اسم بازیکن O :   \"),\"O\")]\n",
    "\n",
    "    return players\n"
   ]
  },
  {
   "cell_type": "code",
   "execution_count": 125,
   "metadata": {},
   "outputs": [],
   "source": [
    "def duration(players_names):\n",
    "    pind = 1\n",
    "    isEND = False\n",
    "    selected=['\\n ', ' ', ' ', ' ', ' ', ' ', ' ', ' ', ' ', ' ']\n",
    "    while not isEND:\n",
    "        board(selected)\n",
    "\n",
    "        pind = cycling(pind)\n",
    "\n",
    "        selected = choose(players_names[pind], selected)\n",
    "\n",
    "        isfinal, isEND, mark = isdone(selected)\n",
    "    \n",
    "    return mark, isfinal\n",
    "\n",
    "        \n",
    "        \n"
   ]
  },
  {
   "cell_type": "code",
   "execution_count": 126,
   "metadata": {},
   "outputs": [],
   "source": [
    "def end_game(players_names, final, mark ):\n",
    "    if final == \"win\":\n",
    "        winner = players_names[0][0] if mark == \"X\" else players_names[1][0]\n",
    "        fin_msg = \"برد {}\".format(winner)\n",
    "    else:\n",
    "        fin_msg = \"تساوی\"\n",
    "    print(\"\"\"پایان بازی:\n",
    "          \n",
    "\n",
    "          بازی بین {0} و {1} با نتیجه {2} به پایان رسید\n",
    "          از این که با ما این بازی را امتجان کردید متشکرم.\n",
    "          \"\"\".format(players_names[0][0], players_names[1][0], fin_msg))"
   ]
  },
  {
   "cell_type": "code",
   "execution_count": 127,
   "metadata": {},
   "outputs": [],
   "source": [
    "def board(selected):\n",
    "    \"\"\" نمایش وضعیت کنونی میز بازی\n",
    "\n",
    "    Args:\n",
    "        selected (list): selected and unselected places\n",
    "    \"\"\"\n",
    "    print('''{0}\n",
    "    {1} | {2} | {3} \n",
    "    __________\n",
    "    {4} | {5} | {6}\n",
    "    __________\n",
    "    {7} | {8} | {9}\n",
    "\n",
    "    '''.format(selected[0],\n",
    "               selected[1],selected[2],selected[3],\n",
    "               selected[4],selected[5],selected[6],\n",
    "               selected[7],selected[8],selected[9],))\n"
   ]
  },
  {
   "cell_type": "code",
   "execution_count": 128,
   "metadata": {},
   "outputs": [],
   "source": [
    "def cycling(player_index):\n",
    "     return 1 if player_index == 0 else  0"
   ]
  },
  {
   "cell_type": "code",
   "execution_count": 129,
   "metadata": {},
   "outputs": [],
   "source": [
    "def choose(player, places ):\n",
    "    \"\"\"انتخاب خانه برای بازیکن خوانده شده.\n",
    "\n",
    "    Args:\n",
    "        player (str): player in turn\n",
    "        places (list, optional): _description_. Defaults to selected.\n",
    "\n",
    "    Returns:\n",
    "        list: updated places\n",
    "    \"\"\"\n",
    "    not_Valid = True\n",
    "    chosen = int(input(\"{}، خانه بعدی رو انتخاب کن\".format(player[0])))\n",
    "    while not_Valid:\n",
    "        if places[chosen] != \" \":\n",
    "            chosen = int(input(\"اون مکان قبلا زده شده، خانه بعدی رو  دوباره انتخاب کن\".format(player[0])))\n",
    "        else  :\n",
    "            places[chosen] = player[1]\n",
    "            not_Valid = False\n",
    "\n",
    "    return places"
   ]
  },
  {
   "cell_type": "code",
   "execution_count": 130,
   "metadata": {},
   "outputs": [],
   "source": [
    "def isdone(selected):\n",
    "    end = False\n",
    "    mark=''\n",
    "    # WIN\n",
    "    if (selected[1] == selected[2] == selected[3] and selected[1] != ' ') or         (selected[4] == selected[5] == selected[6] and selected[4] != ' ') or        (selected[7] == selected[8] == selected[9] and selected[7] != ' ') or        (selected[1] == selected[4] == selected[7] and selected[1] != ' ') or          (selected[2] == selected[5] == selected[8] and selected[2] != ' ') or        (selected[3] == selected[6] == selected[9] and selected[3] != ' ') or        (selected[1] == selected[5] == selected[9] and selected[1] != ' ') or        (selected[3] == selected[5] == selected[7] and selected[3] != ' '):\n",
    "        final = 'win'\n",
    "        if selected.count(\"X\")> selected.count(\"O\"):\n",
    "            mark = \"X\"\n",
    "        else:\n",
    "            mark = \"O\"\n",
    "        end = True\n",
    "    elif ' ' in selected:\n",
    "        #contineu\n",
    "        final =\"contineu\"\n",
    "        end = False   \n",
    "    else:\n",
    "        final =\"draw\"\n",
    "        end = True\n",
    "        #draw    \n",
    "    return final, end, mark\n",
    "\n",
    "    \n"
   ]
  },
  {
   "cell_type": "code",
   "execution_count": null,
   "metadata": {},
   "outputs": [],
   "source": [
    "#GAME\n",
    "players_names = start()\n",
    "mark, isfinal = duration(players_names)\n",
    "end_game(players_names, isfinal, mark)"
   ]
  }
 ],
 "metadata": {
  "kernelspec": {
   "display_name": "Python 3",
   "language": "python",
   "name": "python3"
  },
  "language_info": {
   "codemirror_mode": {
    "name": "ipython",
    "version": 3
   },
   "file_extension": ".py",
   "mimetype": "text/x-python",
   "name": "python",
   "nbconvert_exporter": "python",
   "pygments_lexer": "ipython3",
   "version": "3.11.5"
  }
 },
 "nbformat": 4,
 "nbformat_minor": 1
}
